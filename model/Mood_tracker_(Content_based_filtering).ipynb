{
  "nbformat": 4,
  "nbformat_minor": 0,
  "metadata": {
    "colab": {
      "provenance": []
    },
    "kernelspec": {
      "name": "python3",
      "display_name": "Python 3"
    },
    "language_info": {
      "name": "python"
    }
  },
  "cells": [
    {
      "cell_type": "markdown",
      "source": [
        "LOAD DATASET"
      ],
      "metadata": {
        "id": "zDT5zERtgUwn"
      }
    },
    {
      "cell_type": "code",
      "source": [
        "import nltk\n",
        "nltk.download('wordnet')\n",
        "nltk.download('stopwords')\n",
        "nltk.download('omw-1.4')"
      ],
      "metadata": {
        "colab": {
          "base_uri": "https://localhost:8080/"
        },
        "id": "NqrzM5gMqYz5",
        "outputId": "4487db12-980a-45e9-8810-4803055824a6"
      },
      "execution_count": null,
      "outputs": [
        {
          "output_type": "stream",
          "name": "stderr",
          "text": [
            "[nltk_data] Downloading package wordnet to /root/nltk_data...\n",
            "[nltk_data]   Package wordnet is already up-to-date!\n",
            "[nltk_data] Downloading package stopwords to /root/nltk_data...\n",
            "[nltk_data]   Package stopwords is already up-to-date!\n",
            "[nltk_data] Downloading package omw-1.4 to /root/nltk_data...\n",
            "[nltk_data]   Package omw-1.4 is already up-to-date!\n"
          ]
        },
        {
          "output_type": "execute_result",
          "data": {
            "text/plain": [
              "True"
            ]
          },
          "metadata": {},
          "execution_count": 110
        }
      ]
    },
    {
      "cell_type": "code",
      "source": [
        "import numpy as np\n",
        "import matplotlib.pyplot as plt\n",
        "import pandas as pd\n",
        "from nltk.corpus import stopwords\n",
        "stop = set(stopwords.words('english'))\n",
        "stop.update(['.', ',', '\"', \"'\", '?','|','!', ':', ';', '(', ')', '[', ']', '{', '}',''])\n",
        "from nltk.stem import WordNetLemmatizer"
      ],
      "metadata": {
        "id": "EwIHMsYIdNcN"
      },
      "execution_count": null,
      "outputs": []
    },
    {
      "cell_type": "code",
      "source": [
        "df = pd.read_csv('/content/Daylio_Abid.csv')\n",
        "df"
      ],
      "metadata": {
        "colab": {
          "base_uri": "https://localhost:8080/",
          "height": 423
        },
        "id": "m5fBsFNx1Zrg",
        "outputId": "4ca36980-a0af-4835-f51d-1364d9bc78e7"
      },
      "execution_count": null,
      "outputs": [
        {
          "output_type": "execute_result",
          "data": {
            "text/plain": [
              "      full_date    date    weekday      time   sub_mood  \\\n",
              "0    16/04/2021  Apr-16     Friday   8:00 pm       yolo   \n",
              "1    15/04/2021  Apr-15   Thursday   2:37 am   focused    \n",
              "2    14/04/2021  Apr-14  Wednesday   2:39 am  confused    \n",
              "3    13/04/2021  Apr-13    Tuesday   2:38 am  wondering   \n",
              "4    12/04/2021  Apr-12     Monday   9:52 pm      angry   \n",
              "..          ...     ...        ...       ...        ...   \n",
              "935  04/02/2018  Feb-04     Sunday   8:19 pm       yolo   \n",
              "936  04/02/2018  Feb-04     Sunday  11:23 am        meh   \n",
              "937  04/02/2018  Feb-04     Sunday   6:34 am   blessed    \n",
              "938  03/02/2018  Feb-03   Saturday   7:52 pm      angry   \n",
              "939  03/02/2018  Feb-03   Saturday   3:12 pm        meh   \n",
              "\n",
              "                                            activities    mood  \n",
              "0    reading | Art | prayer | fasting  | walk | med...    Good  \n",
              "1    reading | learning  | Art | prayer | fasting  ...    Good  \n",
              "2    reading | learning  | prayer | fasting  | Qura...  Normal  \n",
              "3    reading | learning  | Art | prayer | fasting  ...  Normal  \n",
              "4    reading | learning  | fasting  | walk | medita...   Awful  \n",
              "..                                                 ...     ...  \n",
              "935  Write dairy  | walk | meditation  | Audio book...    Good  \n",
              "936                  meditation  | youtube | research   Normal  \n",
              "937              prayer | good meal | youtube | movies    Good  \n",
              "938      Write dairy  | Dota 2 | streaming  | shopping   Awful  \n",
              "939  walk | meditation  | Dota 2 | Audio books  | s...  Normal  \n",
              "\n",
              "[940 rows x 7 columns]"
            ],
            "text/html": [
              "\n",
              "  <div id=\"df-335d6d91-f3fa-4810-be66-011fd909346c\">\n",
              "    <div class=\"colab-df-container\">\n",
              "      <div>\n",
              "<style scoped>\n",
              "    .dataframe tbody tr th:only-of-type {\n",
              "        vertical-align: middle;\n",
              "    }\n",
              "\n",
              "    .dataframe tbody tr th {\n",
              "        vertical-align: top;\n",
              "    }\n",
              "\n",
              "    .dataframe thead th {\n",
              "        text-align: right;\n",
              "    }\n",
              "</style>\n",
              "<table border=\"1\" class=\"dataframe\">\n",
              "  <thead>\n",
              "    <tr style=\"text-align: right;\">\n",
              "      <th></th>\n",
              "      <th>full_date</th>\n",
              "      <th>date</th>\n",
              "      <th>weekday</th>\n",
              "      <th>time</th>\n",
              "      <th>sub_mood</th>\n",
              "      <th>activities</th>\n",
              "      <th>mood</th>\n",
              "    </tr>\n",
              "  </thead>\n",
              "  <tbody>\n",
              "    <tr>\n",
              "      <th>0</th>\n",
              "      <td>16/04/2021</td>\n",
              "      <td>Apr-16</td>\n",
              "      <td>Friday</td>\n",
              "      <td>8:00 pm</td>\n",
              "      <td>yolo</td>\n",
              "      <td>reading | Art | prayer | fasting  | walk | med...</td>\n",
              "      <td>Good</td>\n",
              "    </tr>\n",
              "    <tr>\n",
              "      <th>1</th>\n",
              "      <td>15/04/2021</td>\n",
              "      <td>Apr-15</td>\n",
              "      <td>Thursday</td>\n",
              "      <td>2:37 am</td>\n",
              "      <td>focused</td>\n",
              "      <td>reading | learning  | Art | prayer | fasting  ...</td>\n",
              "      <td>Good</td>\n",
              "    </tr>\n",
              "    <tr>\n",
              "      <th>2</th>\n",
              "      <td>14/04/2021</td>\n",
              "      <td>Apr-14</td>\n",
              "      <td>Wednesday</td>\n",
              "      <td>2:39 am</td>\n",
              "      <td>confused</td>\n",
              "      <td>reading | learning  | prayer | fasting  | Qura...</td>\n",
              "      <td>Normal</td>\n",
              "    </tr>\n",
              "    <tr>\n",
              "      <th>3</th>\n",
              "      <td>13/04/2021</td>\n",
              "      <td>Apr-13</td>\n",
              "      <td>Tuesday</td>\n",
              "      <td>2:38 am</td>\n",
              "      <td>wondering</td>\n",
              "      <td>reading | learning  | Art | prayer | fasting  ...</td>\n",
              "      <td>Normal</td>\n",
              "    </tr>\n",
              "    <tr>\n",
              "      <th>4</th>\n",
              "      <td>12/04/2021</td>\n",
              "      <td>Apr-12</td>\n",
              "      <td>Monday</td>\n",
              "      <td>9:52 pm</td>\n",
              "      <td>angry</td>\n",
              "      <td>reading | learning  | fasting  | walk | medita...</td>\n",
              "      <td>Awful</td>\n",
              "    </tr>\n",
              "    <tr>\n",
              "      <th>...</th>\n",
              "      <td>...</td>\n",
              "      <td>...</td>\n",
              "      <td>...</td>\n",
              "      <td>...</td>\n",
              "      <td>...</td>\n",
              "      <td>...</td>\n",
              "      <td>...</td>\n",
              "    </tr>\n",
              "    <tr>\n",
              "      <th>935</th>\n",
              "      <td>04/02/2018</td>\n",
              "      <td>Feb-04</td>\n",
              "      <td>Sunday</td>\n",
              "      <td>8:19 pm</td>\n",
              "      <td>yolo</td>\n",
              "      <td>Write dairy  | walk | meditation  | Audio book...</td>\n",
              "      <td>Good</td>\n",
              "    </tr>\n",
              "    <tr>\n",
              "      <th>936</th>\n",
              "      <td>04/02/2018</td>\n",
              "      <td>Feb-04</td>\n",
              "      <td>Sunday</td>\n",
              "      <td>11:23 am</td>\n",
              "      <td>meh</td>\n",
              "      <td>meditation  | youtube | research</td>\n",
              "      <td>Normal</td>\n",
              "    </tr>\n",
              "    <tr>\n",
              "      <th>937</th>\n",
              "      <td>04/02/2018</td>\n",
              "      <td>Feb-04</td>\n",
              "      <td>Sunday</td>\n",
              "      <td>6:34 am</td>\n",
              "      <td>blessed</td>\n",
              "      <td>prayer | good meal | youtube | movies</td>\n",
              "      <td>Good</td>\n",
              "    </tr>\n",
              "    <tr>\n",
              "      <th>938</th>\n",
              "      <td>03/02/2018</td>\n",
              "      <td>Feb-03</td>\n",
              "      <td>Saturday</td>\n",
              "      <td>7:52 pm</td>\n",
              "      <td>angry</td>\n",
              "      <td>Write dairy  | Dota 2 | streaming  | shopping</td>\n",
              "      <td>Awful</td>\n",
              "    </tr>\n",
              "    <tr>\n",
              "      <th>939</th>\n",
              "      <td>03/02/2018</td>\n",
              "      <td>Feb-03</td>\n",
              "      <td>Saturday</td>\n",
              "      <td>3:12 pm</td>\n",
              "      <td>meh</td>\n",
              "      <td>walk | meditation  | Dota 2 | Audio books  | s...</td>\n",
              "      <td>Normal</td>\n",
              "    </tr>\n",
              "  </tbody>\n",
              "</table>\n",
              "<p>940 rows × 7 columns</p>\n",
              "</div>\n",
              "      <button class=\"colab-df-convert\" onclick=\"convertToInteractive('df-335d6d91-f3fa-4810-be66-011fd909346c')\"\n",
              "              title=\"Convert this dataframe to an interactive table.\"\n",
              "              style=\"display:none;\">\n",
              "        \n",
              "  <svg xmlns=\"http://www.w3.org/2000/svg\" height=\"24px\"viewBox=\"0 0 24 24\"\n",
              "       width=\"24px\">\n",
              "    <path d=\"M0 0h24v24H0V0z\" fill=\"none\"/>\n",
              "    <path d=\"M18.56 5.44l.94 2.06.94-2.06 2.06-.94-2.06-.94-.94-2.06-.94 2.06-2.06.94zm-11 1L8.5 8.5l.94-2.06 2.06-.94-2.06-.94L8.5 2.5l-.94 2.06-2.06.94zm10 10l.94 2.06.94-2.06 2.06-.94-2.06-.94-.94-2.06-.94 2.06-2.06.94z\"/><path d=\"M17.41 7.96l-1.37-1.37c-.4-.4-.92-.59-1.43-.59-.52 0-1.04.2-1.43.59L10.3 9.45l-7.72 7.72c-.78.78-.78 2.05 0 2.83L4 21.41c.39.39.9.59 1.41.59.51 0 1.02-.2 1.41-.59l7.78-7.78 2.81-2.81c.8-.78.8-2.07 0-2.86zM5.41 20L4 18.59l7.72-7.72 1.47 1.35L5.41 20z\"/>\n",
              "  </svg>\n",
              "      </button>\n",
              "      \n",
              "  <style>\n",
              "    .colab-df-container {\n",
              "      display:flex;\n",
              "      flex-wrap:wrap;\n",
              "      gap: 12px;\n",
              "    }\n",
              "\n",
              "    .colab-df-convert {\n",
              "      background-color: #E8F0FE;\n",
              "      border: none;\n",
              "      border-radius: 50%;\n",
              "      cursor: pointer;\n",
              "      display: none;\n",
              "      fill: #1967D2;\n",
              "      height: 32px;\n",
              "      padding: 0 0 0 0;\n",
              "      width: 32px;\n",
              "    }\n",
              "\n",
              "    .colab-df-convert:hover {\n",
              "      background-color: #E2EBFA;\n",
              "      box-shadow: 0px 1px 2px rgba(60, 64, 67, 0.3), 0px 1px 3px 1px rgba(60, 64, 67, 0.15);\n",
              "      fill: #174EA6;\n",
              "    }\n",
              "\n",
              "    [theme=dark] .colab-df-convert {\n",
              "      background-color: #3B4455;\n",
              "      fill: #D2E3FC;\n",
              "    }\n",
              "\n",
              "    [theme=dark] .colab-df-convert:hover {\n",
              "      background-color: #434B5C;\n",
              "      box-shadow: 0px 1px 3px 1px rgba(0, 0, 0, 0.15);\n",
              "      filter: drop-shadow(0px 1px 2px rgba(0, 0, 0, 0.3));\n",
              "      fill: #FFFFFF;\n",
              "    }\n",
              "  </style>\n",
              "\n",
              "      <script>\n",
              "        const buttonEl =\n",
              "          document.querySelector('#df-335d6d91-f3fa-4810-be66-011fd909346c button.colab-df-convert');\n",
              "        buttonEl.style.display =\n",
              "          google.colab.kernel.accessAllowed ? 'block' : 'none';\n",
              "\n",
              "        async function convertToInteractive(key) {\n",
              "          const element = document.querySelector('#df-335d6d91-f3fa-4810-be66-011fd909346c');\n",
              "          const dataTable =\n",
              "            await google.colab.kernel.invokeFunction('convertToInteractive',\n",
              "                                                     [key], {});\n",
              "          if (!dataTable) return;\n",
              "\n",
              "          const docLinkHtml = 'Like what you see? Visit the ' +\n",
              "            '<a target=\"_blank\" href=https://colab.research.google.com/notebooks/data_table.ipynb>data table notebook</a>'\n",
              "            + ' to learn more about interactive tables.';\n",
              "          element.innerHTML = '';\n",
              "          dataTable['output_type'] = 'display_data';\n",
              "          await google.colab.output.renderOutput(dataTable, element);\n",
              "          const docLink = document.createElement('div');\n",
              "          docLink.innerHTML = docLinkHtml;\n",
              "          element.appendChild(docLink);\n",
              "        }\n",
              "      </script>\n",
              "    </div>\n",
              "  </div>\n",
              "  "
            ]
          },
          "metadata": {},
          "execution_count": 112
        }
      ]
    },
    {
      "cell_type": "markdown",
      "source": [
        "MENGECEK INFORMASI PADA DATASET"
      ],
      "metadata": {
        "id": "kJTsMcG5iA8Q"
      }
    },
    {
      "cell_type": "code",
      "source": [
        "df.info()"
      ],
      "metadata": {
        "colab": {
          "base_uri": "https://localhost:8080/"
        },
        "id": "sTHQgtu2iMIq",
        "outputId": "63d4c747-7aa6-414b-faf1-2ef019509056"
      },
      "execution_count": null,
      "outputs": [
        {
          "output_type": "stream",
          "name": "stdout",
          "text": [
            "<class 'pandas.core.frame.DataFrame'>\n",
            "RangeIndex: 940 entries, 0 to 939\n",
            "Data columns (total 7 columns):\n",
            " #   Column      Non-Null Count  Dtype \n",
            "---  ------      --------------  ----- \n",
            " 0   full_date   940 non-null    object\n",
            " 1   date        940 non-null    object\n",
            " 2   weekday     940 non-null    object\n",
            " 3   time        940 non-null    object\n",
            " 4   sub_mood    940 non-null    object\n",
            " 5   activities  893 non-null    object\n",
            " 6   mood        940 non-null    object\n",
            "dtypes: object(7)\n",
            "memory usage: 51.5+ KB\n"
          ]
        }
      ]
    },
    {
      "cell_type": "markdown",
      "source": [
        "CEK JUMLAH SUBMOOD & MOOD PADA DATASET"
      ],
      "metadata": {
        "id": "G8zUKJJag8cO"
      }
    },
    {
      "cell_type": "code",
      "source": [
        "df[\"sub_mood\"].value_counts()"
      ],
      "metadata": {
        "colab": {
          "base_uri": "https://localhost:8080/"
        },
        "outputId": "4a450832-954c-450b-c7ef-0e41c3564c77",
        "id": "Ko6Mlem6hBz5"
      },
      "execution_count": null,
      "outputs": [
        {
          "output_type": "execute_result",
          "data": {
            "text/plain": [
              "blessed           174\n",
              "focused           111\n",
              "yolo              100\n",
              "excited            91\n",
              "confused           64\n",
              "wondering          64\n",
              "hungry             53\n",
              "Cool               37\n",
              "over the moon      34\n",
              "weak               31\n",
              "Chill              30\n",
              "worried            28\n",
              "meh                27\n",
              "good               19\n",
              "triggered          18\n",
              "angry              16\n",
              "sad af             13\n",
              "scared              9\n",
              "sick                8\n",
              "happiest day        5\n",
              "awful               4\n",
              "bad                 4\n",
              "Name: sub_mood, dtype: int64"
            ]
          },
          "metadata": {},
          "execution_count": 114
        }
      ]
    },
    {
      "cell_type": "code",
      "source": [
        "df[\"mood\"].value_counts()"
      ],
      "metadata": {
        "colab": {
          "base_uri": "https://localhost:8080/"
        },
        "outputId": "c66ca0a4-2fb8-426a-89d5-41bf215402d6",
        "id": "adWRpcczhPIn"
      },
      "execution_count": null,
      "outputs": [
        {
          "output_type": "execute_result",
          "data": {
            "text/plain": [
              "Good       487\n",
              "Normal     186\n",
              "Amazing    167\n",
              "Awful       51\n",
              "Bad         49\n",
              "Name: mood, dtype: int64"
            ]
          },
          "metadata": {},
          "execution_count": 115
        }
      ]
    },
    {
      "cell_type": "markdown",
      "source": [
        "# **Exploratory Data Analysis**"
      ],
      "metadata": {
        "id": "BuuMuc4wjNJs"
      }
    },
    {
      "cell_type": "markdown",
      "source": [
        "CEK MISSING VALUE"
      ],
      "metadata": {
        "id": "wzec7Lb0gZX9"
      }
    },
    {
      "cell_type": "code",
      "source": [
        "df.isnull().sum()"
      ],
      "metadata": {
        "colab": {
          "base_uri": "https://localhost:8080/"
        },
        "id": "8ZSx86Su3bwL",
        "outputId": "a9ade6d8-df9d-43bf-af93-5411fad50923"
      },
      "execution_count": null,
      "outputs": [
        {
          "output_type": "execute_result",
          "data": {
            "text/plain": [
              "full_date      0\n",
              "date           0\n",
              "weekday        0\n",
              "time           0\n",
              "sub_mood       0\n",
              "activities    47\n",
              "mood           0\n",
              "dtype: int64"
            ]
          },
          "metadata": {},
          "execution_count": 116
        }
      ]
    },
    {
      "cell_type": "markdown",
      "source": [
        "Menangani missing value"
      ],
      "metadata": {
        "id": "iiKH-mMX9MLr"
      }
    },
    {
      "cell_type": "code",
      "source": [
        "#drop baris 'activities' dengan nilai null \n",
        "new_df = df.dropna(axis = 0, how ='any')\n",
        "\n",
        "#cek ukuran data untuk memastikan baris sudah di drop\n",
        "new_df.shape"
      ],
      "metadata": {
        "colab": {
          "base_uri": "https://localhost:8080/"
        },
        "id": "fhBSuPh03xLg",
        "outputId": "cfabbaea-c130-4191-c477-4756beaa3456"
      },
      "execution_count": null,
      "outputs": [
        {
          "output_type": "execute_result",
          "data": {
            "text/plain": [
              "(893, 7)"
            ]
          },
          "metadata": {},
          "execution_count": 118
        }
      ]
    },
    {
      "cell_type": "code",
      "source": [
        "#drop kolom full date, date, time\n",
        "new_df = df.drop(['full_date', 'date', 'time', 'weekday'], axis=1)\n",
        "new_df"
      ],
      "metadata": {
        "colab": {
          "base_uri": "https://localhost:8080/",
          "height": 423
        },
        "id": "FGUmjhQC_l-k",
        "outputId": "39fdccac-ba0e-4084-de2a-b270cf7f5d7b"
      },
      "execution_count": null,
      "outputs": [
        {
          "output_type": "execute_result",
          "data": {
            "text/plain": [
              "      sub_mood                                         activities    mood\n",
              "0         yolo  reading | Art | prayer | fasting  | walk | med...    Good\n",
              "1     focused   reading | learning  | Art | prayer | fasting  ...    Good\n",
              "2    confused   reading | learning  | prayer | fasting  | Qura...  Normal\n",
              "3    wondering  reading | learning  | Art | prayer | fasting  ...  Normal\n",
              "4        angry  reading | learning  | fasting  | walk | medita...   Awful\n",
              "..         ...                                                ...     ...\n",
              "935       yolo  Write dairy  | walk | meditation  | Audio book...    Good\n",
              "936        meh                  meditation  | youtube | research   Normal\n",
              "937   blessed               prayer | good meal | youtube | movies    Good\n",
              "938      angry      Write dairy  | Dota 2 | streaming  | shopping   Awful\n",
              "939        meh  walk | meditation  | Dota 2 | Audio books  | s...  Normal\n",
              "\n",
              "[940 rows x 3 columns]"
            ],
            "text/html": [
              "\n",
              "  <div id=\"df-88e11500-cf1b-436c-a26c-fced12cf4e40\">\n",
              "    <div class=\"colab-df-container\">\n",
              "      <div>\n",
              "<style scoped>\n",
              "    .dataframe tbody tr th:only-of-type {\n",
              "        vertical-align: middle;\n",
              "    }\n",
              "\n",
              "    .dataframe tbody tr th {\n",
              "        vertical-align: top;\n",
              "    }\n",
              "\n",
              "    .dataframe thead th {\n",
              "        text-align: right;\n",
              "    }\n",
              "</style>\n",
              "<table border=\"1\" class=\"dataframe\">\n",
              "  <thead>\n",
              "    <tr style=\"text-align: right;\">\n",
              "      <th></th>\n",
              "      <th>sub_mood</th>\n",
              "      <th>activities</th>\n",
              "      <th>mood</th>\n",
              "    </tr>\n",
              "  </thead>\n",
              "  <tbody>\n",
              "    <tr>\n",
              "      <th>0</th>\n",
              "      <td>yolo</td>\n",
              "      <td>reading | Art | prayer | fasting  | walk | med...</td>\n",
              "      <td>Good</td>\n",
              "    </tr>\n",
              "    <tr>\n",
              "      <th>1</th>\n",
              "      <td>focused</td>\n",
              "      <td>reading | learning  | Art | prayer | fasting  ...</td>\n",
              "      <td>Good</td>\n",
              "    </tr>\n",
              "    <tr>\n",
              "      <th>2</th>\n",
              "      <td>confused</td>\n",
              "      <td>reading | learning  | prayer | fasting  | Qura...</td>\n",
              "      <td>Normal</td>\n",
              "    </tr>\n",
              "    <tr>\n",
              "      <th>3</th>\n",
              "      <td>wondering</td>\n",
              "      <td>reading | learning  | Art | prayer | fasting  ...</td>\n",
              "      <td>Normal</td>\n",
              "    </tr>\n",
              "    <tr>\n",
              "      <th>4</th>\n",
              "      <td>angry</td>\n",
              "      <td>reading | learning  | fasting  | walk | medita...</td>\n",
              "      <td>Awful</td>\n",
              "    </tr>\n",
              "    <tr>\n",
              "      <th>...</th>\n",
              "      <td>...</td>\n",
              "      <td>...</td>\n",
              "      <td>...</td>\n",
              "    </tr>\n",
              "    <tr>\n",
              "      <th>935</th>\n",
              "      <td>yolo</td>\n",
              "      <td>Write dairy  | walk | meditation  | Audio book...</td>\n",
              "      <td>Good</td>\n",
              "    </tr>\n",
              "    <tr>\n",
              "      <th>936</th>\n",
              "      <td>meh</td>\n",
              "      <td>meditation  | youtube | research</td>\n",
              "      <td>Normal</td>\n",
              "    </tr>\n",
              "    <tr>\n",
              "      <th>937</th>\n",
              "      <td>blessed</td>\n",
              "      <td>prayer | good meal | youtube | movies</td>\n",
              "      <td>Good</td>\n",
              "    </tr>\n",
              "    <tr>\n",
              "      <th>938</th>\n",
              "      <td>angry</td>\n",
              "      <td>Write dairy  | Dota 2 | streaming  | shopping</td>\n",
              "      <td>Awful</td>\n",
              "    </tr>\n",
              "    <tr>\n",
              "      <th>939</th>\n",
              "      <td>meh</td>\n",
              "      <td>walk | meditation  | Dota 2 | Audio books  | s...</td>\n",
              "      <td>Normal</td>\n",
              "    </tr>\n",
              "  </tbody>\n",
              "</table>\n",
              "<p>940 rows × 3 columns</p>\n",
              "</div>\n",
              "      <button class=\"colab-df-convert\" onclick=\"convertToInteractive('df-88e11500-cf1b-436c-a26c-fced12cf4e40')\"\n",
              "              title=\"Convert this dataframe to an interactive table.\"\n",
              "              style=\"display:none;\">\n",
              "        \n",
              "  <svg xmlns=\"http://www.w3.org/2000/svg\" height=\"24px\"viewBox=\"0 0 24 24\"\n",
              "       width=\"24px\">\n",
              "    <path d=\"M0 0h24v24H0V0z\" fill=\"none\"/>\n",
              "    <path d=\"M18.56 5.44l.94 2.06.94-2.06 2.06-.94-2.06-.94-.94-2.06-.94 2.06-2.06.94zm-11 1L8.5 8.5l.94-2.06 2.06-.94-2.06-.94L8.5 2.5l-.94 2.06-2.06.94zm10 10l.94 2.06.94-2.06 2.06-.94-2.06-.94-.94-2.06-.94 2.06-2.06.94z\"/><path d=\"M17.41 7.96l-1.37-1.37c-.4-.4-.92-.59-1.43-.59-.52 0-1.04.2-1.43.59L10.3 9.45l-7.72 7.72c-.78.78-.78 2.05 0 2.83L4 21.41c.39.39.9.59 1.41.59.51 0 1.02-.2 1.41-.59l7.78-7.78 2.81-2.81c.8-.78.8-2.07 0-2.86zM5.41 20L4 18.59l7.72-7.72 1.47 1.35L5.41 20z\"/>\n",
              "  </svg>\n",
              "      </button>\n",
              "      \n",
              "  <style>\n",
              "    .colab-df-container {\n",
              "      display:flex;\n",
              "      flex-wrap:wrap;\n",
              "      gap: 12px;\n",
              "    }\n",
              "\n",
              "    .colab-df-convert {\n",
              "      background-color: #E8F0FE;\n",
              "      border: none;\n",
              "      border-radius: 50%;\n",
              "      cursor: pointer;\n",
              "      display: none;\n",
              "      fill: #1967D2;\n",
              "      height: 32px;\n",
              "      padding: 0 0 0 0;\n",
              "      width: 32px;\n",
              "    }\n",
              "\n",
              "    .colab-df-convert:hover {\n",
              "      background-color: #E2EBFA;\n",
              "      box-shadow: 0px 1px 2px rgba(60, 64, 67, 0.3), 0px 1px 3px 1px rgba(60, 64, 67, 0.15);\n",
              "      fill: #174EA6;\n",
              "    }\n",
              "\n",
              "    [theme=dark] .colab-df-convert {\n",
              "      background-color: #3B4455;\n",
              "      fill: #D2E3FC;\n",
              "    }\n",
              "\n",
              "    [theme=dark] .colab-df-convert:hover {\n",
              "      background-color: #434B5C;\n",
              "      box-shadow: 0px 1px 3px 1px rgba(0, 0, 0, 0.15);\n",
              "      filter: drop-shadow(0px 1px 2px rgba(0, 0, 0, 0.3));\n",
              "      fill: #FFFFFF;\n",
              "    }\n",
              "  </style>\n",
              "\n",
              "      <script>\n",
              "        const buttonEl =\n",
              "          document.querySelector('#df-88e11500-cf1b-436c-a26c-fced12cf4e40 button.colab-df-convert');\n",
              "        buttonEl.style.display =\n",
              "          google.colab.kernel.accessAllowed ? 'block' : 'none';\n",
              "\n",
              "        async function convertToInteractive(key) {\n",
              "          const element = document.querySelector('#df-88e11500-cf1b-436c-a26c-fced12cf4e40');\n",
              "          const dataTable =\n",
              "            await google.colab.kernel.invokeFunction('convertToInteractive',\n",
              "                                                     [key], {});\n",
              "          if (!dataTable) return;\n",
              "\n",
              "          const docLinkHtml = 'Like what you see? Visit the ' +\n",
              "            '<a target=\"_blank\" href=https://colab.research.google.com/notebooks/data_table.ipynb>data table notebook</a>'\n",
              "            + ' to learn more about interactive tables.';\n",
              "          element.innerHTML = '';\n",
              "          dataTable['output_type'] = 'display_data';\n",
              "          await google.colab.output.renderOutput(dataTable, element);\n",
              "          const docLink = document.createElement('div');\n",
              "          docLink.innerHTML = docLinkHtml;\n",
              "          element.appendChild(docLink);\n",
              "        }\n",
              "      </script>\n",
              "    </div>\n",
              "  </div>\n",
              "  "
            ]
          },
          "metadata": {},
          "execution_count": 119
        }
      ]
    },
    {
      "cell_type": "code",
      "source": [
        "def search_activities(sub_mood):\n",
        "    lemmatizer = WordNetLemmatizer()\n",
        "    activitiescount = {}\n",
        "    for i in range(939):\n",
        "      sub_temp = (new_df[\"sub_mood\"][i])\n",
        "      if sub_mood in sub_temp:\n",
        "          activitiestemp = [lemmatizer.lemmatize(temps.strip().replace('.','').replace(',','').lower()) for temps in str(new_df[\"activities\"][i]).split('|') if temps.strip() not in stop ]\n",
        "          for a in activitiestemp:\n",
        "              if a not in activitiescount.keys():\n",
        "                  activitiescount[a] = 1 \n",
        "              else:\n",
        "                  activitiescount[a] += 1\n",
        "    sorted_activities = []\n",
        "    sorted_activities = sorted(activitiescount, key=activitiescount.get, reverse=True)\n",
        "    return sorted_activities\n",
        "\n",
        "\n",
        "def activities_recommendation(sub_mood):\n",
        "    topn = []\n",
        "    topn = search_activities(sub_mood) #function create dictionary only for particular mood\n",
        "    print(\"5 Recommendation Activities in %s are:\"%(sub_mood))\n",
        "    print(topn[0])\n",
        "    print(topn[1])\n",
        "    print(topn[2])\n",
        "    print(topn[3])\n",
        "    print(topn[4])"
      ],
      "metadata": {
        "id": "SD3M4PqAnXfx"
      },
      "execution_count": null,
      "outputs": []
    },
    {
      "cell_type": "code",
      "execution_count": null,
      "metadata": {
        "id": "ZaHcShmVmS_A",
        "outputId": "38019804-d8dc-48bb-9aba-5767b958faf5",
        "colab": {
          "base_uri": "https://localhost:8080/"
        }
      },
      "outputs": [
        {
          "output_type": "stream",
          "name": "stdout",
          "text": [
            "5 Recommendation Activities in angry are:\n",
            "youtube\n",
            "streaming\n",
            "good meal\n",
            "reddit\n",
            "audio books\n"
          ]
        }
      ],
      "source": [
        "activities_recommendation('angry')"
      ]
    }
  ]
}